{
 "cells": [
  {
   "cell_type": "markdown",
   "metadata": {},
   "source": [
    "1. 약수의 합"
   ]
  },
  {
   "cell_type": "code",
   "execution_count": 12,
   "metadata": {},
   "outputs": [
    {
     "data": {
      "text/plain": [
       "42"
      ]
     },
     "execution_count": 12,
     "metadata": {},
     "output_type": "execute_result"
    }
   ],
   "source": [
    "n = 20\n",
    "answer = 0\n",
    "# if x = n % x == 0:\n",
    "for x in range(1, n+1):\n",
    "    if n % x == 0: # x가 약수임을 정한 것\n",
    "        answer += x\n",
    "answer"
   ]
  },
  {
   "cell_type": "code",
   "execution_count": 1,
   "metadata": {},
   "outputs": [],
   "source": [
    "def solution(n):\n",
    "    answer = 0\n",
    "    # if x = n % x == 0:\n",
    "    for x in range(1, n+1):\n",
    "        if n % x == 0: # x가 약수임을 정한 것\n",
    "            answer += x\n",
    "    return answer"
   ]
  },
  {
   "cell_type": "code",
   "execution_count": 14,
   "metadata": {},
   "outputs": [
    {
     "name": "stdout",
     "output_type": "stream",
     "text": [
      "28\n"
     ]
    }
   ],
   "source": [
    "def sumDivisor(num):\n",
    "    lst=[]\n",
    "    for i in range(1,num+1):\n",
    "        if num%i == 0:\n",
    "            lst.append(i)\n",
    "    return sum(lst) # sum은 주로 list에서 씀. 숫자묶음이 있어야 해서\n",
    "\n",
    "print(sumDivisor(12))"
   ]
  },
  {
   "cell_type": "markdown",
   "metadata": {},
   "source": [
    "2. 수박수박수박수박수박수?"
   ]
  },
  {
   "cell_type": "code",
   "execution_count": 5,
   "metadata": {},
   "outputs": [
    {
     "data": {
      "text/plain": [
       "'수박수박수박수박수박수박수'"
      ]
     },
     "execution_count": 5,
     "metadata": {},
     "output_type": "execute_result"
    }
   ],
   "source": [
    "# def solution(n):\n",
    "n = 13\n",
    "    # n이 짝수/홀수인 경우 나눠서\n",
    "if n % 2 == 0:\n",
    "    answer = '수박'*int(n/2)\n",
    "# answer\n",
    "#     return answer\n",
    "\n",
    "if n % 2 == 1:\n",
    "    answer = '수박'*int((n-1)/2) + '수'\n",
    "answer"
   ]
  },
  {
   "cell_type": "code",
   "execution_count": 2,
   "metadata": {},
   "outputs": [],
   "source": [
    "def solution(n):\n",
    "    if n % 2 == 0:\n",
    "        answer = '수박'*int(n/2)\n",
    "\n",
    "    if n % 2 == 1:\n",
    "        answer = '수박'*int((n-1)/2) + '수'\n",
    "        \n",
    "    return answer"
   ]
  },
  {
   "cell_type": "markdown",
   "metadata": {},
   "source": [
    "3. 서울에서 김서방 찾기"
   ]
  },
  {
   "cell_type": "code",
   "execution_count": 6,
   "metadata": {},
   "outputs": [
    {
     "name": "stdout",
     "output_type": "stream",
     "text": [
      "김서방은 3에 있다\n"
     ]
    }
   ],
   "source": [
    "seoul = [\"Jane\", \"Kime\", 'Michael', 'Kim']\n",
    "# if 'Kim' in seoul:\n",
    "x = seoul.index('Kim')\n",
    "print(f'김서방은 {x}에 있다')"
   ]
  },
  {
   "cell_type": "code",
   "execution_count": 3,
   "metadata": {},
   "outputs": [],
   "source": [
    "def solution(seoul):\n",
    "    x = seoul.index('Kim')\n",
    "    return f'김서방은 {x}에 있다'"
   ]
  },
  {
   "cell_type": "code",
   "execution_count": 9,
   "metadata": {},
   "outputs": [
    {
     "data": {
      "text/plain": [
       "'김서방은 3에 있다'"
      ]
     },
     "execution_count": 9,
     "metadata": {},
     "output_type": "execute_result"
    }
   ],
   "source": [
    "# 병성이\n",
    "seoul = [\"Jane\", \"Kime\", 'Michael', 'Kim']\n",
    "def solution(seoul):\n",
    "    return '김서방은 {}에 있다'.format(seoul.index('Kim')) # 한 줄로\n",
    "solution(seoul)"
   ]
  },
  {
   "cell_type": "markdown",
   "metadata": {},
   "source": [
    "4. 문자열 내 p와 y의 개수"
   ]
  },
  {
   "cell_type": "code",
   "execution_count": 15,
   "metadata": {},
   "outputs": [
    {
     "name": "stdout",
     "output_type": "stream",
     "text": [
      "True\n"
     ]
    }
   ],
   "source": [
    "s = \"pPoooyY\".lower() # 먼저 모두 소문자 처리. 메소드라서 .lower()형태\n",
    "p = s.count('p')\n",
    "y = s.count('y')\n",
    "if p == y:\n",
    "    print(True)\n",
    "else:\n",
    "    print(False)"
   ]
  },
  {
   "cell_type": "code",
   "execution_count": 4,
   "metadata": {},
   "outputs": [],
   "source": [
    "def solution(s):\n",
    "    s = s.lower()\n",
    "    p = s.count('p')\n",
    "    y = s.count('y')\n",
    "    if p == y:\n",
    "        return True # 함수니까 print말고 return써야 함\n",
    "    else:\n",
    "        return False"
   ]
  },
  {
   "cell_type": "markdown",
   "metadata": {},
   "source": [
    "5. 같은 숫자는 싫어"
   ]
  },
  {
   "cell_type": "code",
   "execution_count": 11,
   "metadata": {},
   "outputs": [
    {
     "data": {
      "text/plain": [
       "[1, 3, 0, 1]"
      ]
     },
     "execution_count": 11,
     "metadata": {},
     "output_type": "execute_result"
    }
   ],
   "source": [
    "arr = [1,1,3,3,0,1,1]\n",
    "return_arr = [arr[0]]\n",
    "for x in arr:\n",
    "    if x != return_arr[-1]:\n",
    "        return_arr.append(x)\n",
    "return_arr"
   ]
  },
  {
   "cell_type": "code",
   "execution_count": 10,
   "metadata": {},
   "outputs": [],
   "source": [
    "def solution(arr):\n",
    "    return_arr = [arr[0]]\n",
    "    for x in arr:\n",
    "        if x != return_arr[-1]:\n",
    "            return_arr.append(x)\n",
    "    return return_arr"
   ]
  }
 ],
 "metadata": {
  "kernelspec": {
   "display_name": "Python 3",
   "language": "python",
   "name": "python3"
  },
  "language_info": {
   "codemirror_mode": {
    "name": "ipython",
    "version": 3
   },
   "file_extension": ".py",
   "mimetype": "text/x-python",
   "name": "python",
   "nbconvert_exporter": "python",
   "pygments_lexer": "ipython3",
   "version": "3.8.5"
  }
 },
 "nbformat": 4,
 "nbformat_minor": 4
}
